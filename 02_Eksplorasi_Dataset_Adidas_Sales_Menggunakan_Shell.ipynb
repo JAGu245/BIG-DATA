{
  "nbformat": 4,
  "nbformat_minor": 0,
  "metadata": {
    "colab": {
      "provenance": [],
      "include_colab_link": true
    },
    "kernelspec": {
      "name": "python3",
      "display_name": "Python 3"
    },
    "language_info": {
      "name": "python"
    }
  },
  "cells": [
    {
      "cell_type": "markdown",
      "metadata": {
        "id": "view-in-github",
        "colab_type": "text"
      },
      "source": [
        "<a href=\"https://colab.research.google.com/github/JAGu245/BIG-DATA/blob/main/02_Eksplorasi_Dataset_Adidas_Sales_Menggunakan_Shell.ipynb\" target=\"_parent\"><img src=\"https://colab.research.google.com/assets/colab-badge.svg\" alt=\"Open In Colab\"/></a>"
      ]
    },
    {
      "cell_type": "code",
      "execution_count": null,
      "metadata": {
        "id": "mDr-nBnXZdKQ",
        "colab": {
          "base_uri": "https://localhost:8080/"
        },
        "outputId": "b481fe39-20ff-4bd3-ede2-365ae9317935"
      },
      "outputs": [
        {
          "output_type": "stream",
          "name": "stdout",
          "text": [
            "root\n"
          ]
        }
      ],
      "source": [
        "! whoami"
      ]
    },
    {
      "cell_type": "code",
      "source": [
        "! hostname"
      ],
      "metadata": {
        "id": "656yfGvJZfDz",
        "colab": {
          "base_uri": "https://localhost:8080/"
        },
        "outputId": "393e5456-2db3-4f1a-ba88-48d4770b1cef"
      },
      "execution_count": null,
      "outputs": [
        {
          "output_type": "stream",
          "name": "stdout",
          "text": [
            "1aff8785b0e9\n"
          ]
        }
      ]
    },
    {
      "cell_type": "code",
      "source": [
        "! pwd"
      ],
      "metadata": {
        "id": "fKed21lBZhjQ",
        "colab": {
          "base_uri": "https://localhost:8080/"
        },
        "outputId": "366413a5-a344-47f7-db87-622c737f2443"
      },
      "execution_count": null,
      "outputs": [
        {
          "output_type": "stream",
          "name": "stdout",
          "text": [
            "/content\n"
          ]
        }
      ]
    },
    {
      "cell_type": "code",
      "source": [
        "! date"
      ],
      "metadata": {
        "id": "xqKWEiTFZqIj",
        "colab": {
          "base_uri": "https://localhost:8080/"
        },
        "outputId": "2e4dcd94-6704-4d9e-a4f7-4313d4bbe986"
      },
      "execution_count": null,
      "outputs": [
        {
          "output_type": "stream",
          "name": "stdout",
          "text": [
            "Wed Mar 13 11:03:33 AM UTC 2024\n"
          ]
        }
      ]
    },
    {
      "cell_type": "code",
      "source": [],
      "metadata": {
        "id": "yN5B7USLZr-t"
      },
      "execution_count": null,
      "outputs": []
    },
    {
      "cell_type": "markdown",
      "source": [
        "# Tugas : Eksplorasi Dataset Adidas Sales"
      ],
      "metadata": {
        "id": "64tiw7N0pKVQ"
      }
    },
    {
      "cell_type": "markdown",
      "source": [
        "### 0. Persiapan Dataset"
      ],
      "metadata": {
        "id": "g6abFvZfqfaR"
      }
    },
    {
      "cell_type": "markdown",
      "source": [
        "Download dataset Adidas Sales\n",
        "\n",
        "Link: https://www.dropbox.com/scl/fi/pgori5hr9tfaxv3ieg2sd/adidas-sales-dataset.zip?rlkey=imvwvunldzibn1wpwsabw23wc&dl=0\n",
        "\n",
        "\n",
        "***Hints:***\n",
        "1. Gunakan wget"
      ],
      "metadata": {
        "id": "0eRyTS7emgFD"
      }
    },
    {
      "cell_type": "code",
      "source": [
        "# type and run your answer here\n",
        "!wget https://www.dropbox.com/scl/fi/pgori5hr9tfaxv3ieg2sd/adidas-sales-dataset.zip\n"
      ],
      "metadata": {
        "id": "5qbh9ed7Zspd",
        "colab": {
          "base_uri": "https://localhost:8080/"
        },
        "outputId": "64b4a75d-8bd7-4918-a492-56c43f70158c"
      },
      "execution_count": null,
      "outputs": [
        {
          "output_type": "stream",
          "name": "stdout",
          "text": [
            "--2024-03-13 11:03:34--  https://www.dropbox.com/scl/fi/pgori5hr9tfaxv3ieg2sd/adidas-sales-dataset.zip\n",
            "Resolving www.dropbox.com (www.dropbox.com)... 162.125.66.18, 2620:100:6057:18::a27d:d12\n",
            "Connecting to www.dropbox.com (www.dropbox.com)|162.125.66.18|:443... connected.\n",
            "HTTP request sent, awaiting response... 302 Found\n",
            "Location: /register?cont=%2Fscl%2Ffi%2Fpgori5hr9tfaxv3ieg2sd%2Fadidas-sales-dataset.zip&ib_redir=1&register_cont=%2Fscl%2Ffi%2Fpgori5hr9tfaxv3ieg2sd%2Fadidas-sales-dataset.zip%3Fnew_user%3D1 [following]\n",
            "--2024-03-13 11:03:35--  https://www.dropbox.com/register?cont=%2Fscl%2Ffi%2Fpgori5hr9tfaxv3ieg2sd%2Fadidas-sales-dataset.zip&ib_redir=1&register_cont=%2Fscl%2Ffi%2Fpgori5hr9tfaxv3ieg2sd%2Fadidas-sales-dataset.zip%3Fnew_user%3D1\n",
            "Reusing existing connection to www.dropbox.com:443.\n",
            "HTTP request sent, awaiting response... 200 OK\n",
            "Length: unspecified [text/html]\n",
            "Saving to: ‘adidas-sales-dataset.zip’\n",
            "\n",
            "adidas-sales-datase     [  <=>               ]  68.35K   288KB/s    in 0.2s    \n",
            "\n",
            "2024-03-13 11:03:35 (288 KB/s) - ‘adidas-sales-dataset.zip’ saved [69988]\n",
            "\n"
          ]
        }
      ]
    },
    {
      "cell_type": "markdown",
      "source": [
        "Ubah nama file hasil download menjadi **adidas-sales-dataset.zip**"
      ],
      "metadata": {
        "id": "LkRGMUIxnJ2s"
      }
    },
    {
      "cell_type": "code",
      "source": [
        "# type and run your answer here\n",
        "!ls\n",
        "!mv adidas-sales-dataset.zip adidas-sales-dataset.zip\n"
      ],
      "metadata": {
        "id": "ROfhBMeXjvki",
        "colab": {
          "base_uri": "https://localhost:8080/"
        },
        "outputId": "f89a0faf-2ae8-4f75-d73e-86bbe7e30e9e"
      },
      "execution_count": null,
      "outputs": [
        {
          "output_type": "stream",
          "name": "stdout",
          "text": [
            "adidas-sales-dataset.tsv  adidas-sales-dataset.zip  sample_data\n",
            "mv: 'adidas-sales-dataset.zip' and 'adidas-sales-dataset.zip' are the same file\n"
          ]
        }
      ]
    },
    {
      "cell_type": "markdown",
      "source": [
        "Extract file adidas-sales-dataset.zip"
      ],
      "metadata": {
        "id": "egOrJMfooJ-s"
      }
    },
    {
      "cell_type": "code",
      "source": [
        "# type and run your answer here\n",
        "!ls\n",
        "!unzip adidas-sales-dataset.zip\n"
      ],
      "metadata": {
        "id": "7-366VSYolEi",
        "colab": {
          "base_uri": "https://localhost:8080/"
        },
        "outputId": "8aa4a32b-7237-4464-96ac-3a59aa774d29"
      },
      "execution_count": null,
      "outputs": [
        {
          "output_type": "stream",
          "name": "stdout",
          "text": [
            "adidas-sales-dataset.tsv  adidas-sales-dataset.zip  sample_data\n",
            "Archive:  adidas-sales-dataset.zip\n",
            "  End-of-central-directory signature not found.  Either this file is not\n",
            "  a zipfile, or it constitutes one disk of a multi-part archive.  In the\n",
            "  latter case the central directory and zipfile comment will be found on\n",
            "  the last disk(s) of this archive.\n",
            "unzip:  cannot find zipfile directory in one of adidas-sales-dataset.zip or\n",
            "        adidas-sales-dataset.zip.zip, and cannot find adidas-sales-dataset.zip.ZIP, period.\n"
          ]
        }
      ]
    },
    {
      "cell_type": "markdown",
      "source": [
        "Tampilkan semua file dan direktori beserta seluruh atributnya"
      ],
      "metadata": {
        "id": "AYdUX1TUoiKQ"
      }
    },
    {
      "cell_type": "code",
      "source": [
        "# type and run your answer here\n",
        "!ls -la\n"
      ],
      "metadata": {
        "id": "0F0-N5XxozEh",
        "colab": {
          "base_uri": "https://localhost:8080/"
        },
        "outputId": "f679c28e-bd06-4c71-feba-ea47a8974692"
      },
      "execution_count": null,
      "outputs": [
        {
          "output_type": "stream",
          "name": "stdout",
          "text": [
            "total 168\n",
            "drwxr-xr-x 1 root root  4096 Mar 13 11:03 .\n",
            "drwxr-xr-x 1 root root  4096 Mar 13 10:54 ..\n",
            "-rw-r--r-- 1 root root 74126 Mar 13 11:02 adidas-sales-dataset.tsv\n",
            "-rw-r--r-- 1 root root 69988 Mar 13 11:03 adidas-sales-dataset.zip\n",
            "drwxr-xr-x 4 root root  4096 Mar 11 13:24 .config\n",
            "drwxr-xr-x 2 root root  4096 Mar 13 11:03 .ipynb_checkpoints\n",
            "drwxr-xr-x 1 root root  4096 Mar 11 13:25 sample_data\n"
          ]
        }
      ]
    },
    {
      "cell_type": "markdown",
      "source": [
        "Buat direktori **data**"
      ],
      "metadata": {
        "id": "hIH3RGeko9gr"
      }
    },
    {
      "cell_type": "code",
      "source": [
        "# type and run your answer here\n",
        "!mkdir data\n"
      ],
      "metadata": {
        "id": "wVnUEQ1oo4c5"
      },
      "execution_count": null,
      "outputs": []
    },
    {
      "cell_type": "markdown",
      "source": [
        "Pindahkan file **adidas-sales-dataset.tsv** ke direktori **data**"
      ],
      "metadata": {
        "id": "8WwZqVUmpZrZ"
      }
    },
    {
      "cell_type": "code",
      "source": [
        "# type and run your answer here\n",
        "!mv adidas-sales-dataset.tsv data/\n"
      ],
      "metadata": {
        "id": "SZPvjnLmo5GF"
      },
      "execution_count": null,
      "outputs": []
    },
    {
      "cell_type": "markdown",
      "source": [
        "Hapus file adidas-sales-dataset.zip"
      ],
      "metadata": {
        "id": "C3T90px1pl54"
      }
    },
    {
      "cell_type": "code",
      "source": [
        "# type and run your answer here\n",
        "!rm adidas-sales-dataset.zip\n"
      ],
      "metadata": {
        "id": "cb2x7xh_o5sB"
      },
      "execution_count": null,
      "outputs": []
    },
    {
      "cell_type": "markdown",
      "source": [
        "### 1. Tampilkan 10 record pertama"
      ],
      "metadata": {
        "id": "MXPrF2dyp818"
      }
    },
    {
      "cell_type": "code",
      "source": [
        "# type and run your answer here\n",
        "!head data/adidas-sales-dataset.tsv\n"
      ],
      "metadata": {
        "id": "gKCbIwD0aCzG",
        "colab": {
          "base_uri": "https://localhost:8080/"
        },
        "outputId": "f0addf70-e148-449a-fa21-01d865672cd2"
      },
      "execution_count": null,
      "outputs": [
        {
          "output_type": "stream",
          "name": "stdout",
          "text": [
            "Retailer\tRetailer ID\tInvoice Date\tRegion\tState\tCity\tProduct\tPrice per Unit\tUnits Sold\tTotal Sales\tOperating Profit\tOperating Margin\tSales Method\r\n",
            "Foot Locker\t1185732\t1/1/2020\tNortheast\tNew York\tNew York\tMen's Street Footwear\t50\t1200\t600000\t300000\t0.50\tIn-store\r\n",
            "Foot Locker\t1185732\t1/2/2020\tNortheast\tNew York\tNew York\tMen's Athletic Footwear\t50\t1000\t500000\t150000\t0.30\tIn-store\r\n",
            "Foot Locker\t1185732\t1/6/2020\tNortheast\tNew York\tNew York\tWomen's Apparel\t50\t1000\t500000\t125000\t0.25\tIn-store\r\n",
            "Foot Locker\t1185732\t1/7/2020\tNortheast\tNew York\tNew York\tMen's Street Footwear\t50\t1250\t625000\t312500\t0.50\tIn-store\r\n",
            "Foot Locker\t1185732\t1/8/2020\tNortheast\tNew York\tNew York\tMen's Athletic Footwear\t50\t900\t450000\t135000\t0.30\tOutlet\r\n",
            "Foot Locker\t1185732\t1/24/2020\tNortheast\tNew York\tNew York\tWomen's Apparel\t50\t1000\t500000\t125000\t0.25\tOutlet\r\n",
            "Foot Locker\t1185732\t1/25/2020\tNortheast\tNew York\tNew York\tMen's Street Footwear\t50\t1220\t610000\t305000\t0.50\tOutlet\r\n",
            "Foot Locker\t1185732\t1/26/2020\tNortheast\tNew York\tNew York\tMen's Athletic Footwear\t50\t925\t462500\t138750\t0.30\tOutlet\r\n",
            "Foot Locker\t1185732\t1/30/2020\tNortheast\tNew York\tNew York\tWomen's Apparel\t50\t950\t475000\t118750\t0.25\tOutlet\r\n"
          ]
        }
      ]
    },
    {
      "cell_type": "markdown",
      "source": [
        "### 2. Tampilkan 10 record terakhir"
      ],
      "metadata": {
        "id": "NIi-aB9RqLt8"
      }
    },
    {
      "cell_type": "code",
      "source": [
        "# type and run your answer here\n",
        "!tail data/adidas-sales-dataset.tsv\n"
      ],
      "metadata": {
        "id": "2dxk8XFKatLa",
        "colab": {
          "base_uri": "https://localhost:8080/"
        },
        "outputId": "2659d3d3-2389-406a-f01f-f407211c2225"
      },
      "execution_count": null,
      "outputs": [
        {
          "output_type": "stream",
          "name": "stdout",
          "text": [
            "Sports Direct\t1128299\t8/13/2021\tSoutheast\tGeorgia\tAtlanta\tWomen's Apparel\t50\t128\t6400\t1856\t0.29\tOutlet\r\n",
            "Walmart\t1197831\t7/19/2021\tSouth\tArkansas\tLittle Rock\tWomen's Apparel\t50\t198\t9900\t4554\t0.46\tOutlet\r\n",
            "West Gear\t1197831\t12/19/2021\tSouth\tArkansas\tLittle Rock\tMen's Apparel\t50\t132\t6600\t2640\t0.40\tOutlet\r\n",
            "Sports Direct\t1185732\t10/5/2021\tNortheast\tConnecticut\tHartford\tMen's Apparel\t50\t45\t2250\t743\t0.33\tOutlet\r\n",
            "Amazon\t1185732\t11/14/2021\tNortheast\tMassachusetts\tBoston\tMen's Apparel\t50\t78\t3900\t1248\t0.32\tOutlet\r\n",
            "Amazon\t1185732\t11/11/2021\tNortheast\tVermont\tBurlington\tMen's Apparel\t50\t91\t4550\t1775\t0.39\tOutlet\r\n",
            "Amazon\t1185732\t6/19/2021\tNortheast\tNew Hampshire\tManchester\tWomen's Apparel\t50\t162\t8100\t3402\t0.42\tOutlet\r\n",
            "Foot Locker\t1185732\t10/19/2021\tNortheast\tNew Hampshire\tManchester\tMen's Apparel\t50\t58\t2900\t928\t0.32\tOutlet\r\n",
            "Foot Locker\t1185732\t12/17/2021\tNortheast\tNew Hampshire\tManchester\tMen's Apparel\t50\t123\t6150\t2276\t0.37\tOutlet\r\n",
            "Foot Locker\t1185732\t1/24/2021\tNortheast\tNew Hampshire\tManchester\tMen's Apparel\t50\t64\t3200\t896\t0.28\tOutlet"
          ]
        }
      ]
    },
    {
      "cell_type": "markdown",
      "source": [
        "### 3. Berapa jumlah record dataset Adidas Sales"
      ],
      "metadata": {
        "id": "BD0fyBQNqQ8M"
      }
    },
    {
      "cell_type": "code",
      "source": [
        "# type and run your answer here\n",
        "!wc -l data/adidas-sales-dataset.tsv\n"
      ],
      "metadata": {
        "id": "L83YhdFaawR1",
        "colab": {
          "base_uri": "https://localhost:8080/"
        },
        "outputId": "9196a731-854b-4f67-ebde-f08b8d7d1b09"
      },
      "execution_count": null,
      "outputs": [
        {
          "output_type": "stream",
          "name": "stdout",
          "text": [
            "675 data/adidas-sales-dataset.tsv\n"
          ]
        }
      ]
    },
    {
      "cell_type": "markdown",
      "source": [
        "### 4. Tampilkan 20 record pertama"
      ],
      "metadata": {
        "id": "4lsjiSz6q2Sd"
      }
    },
    {
      "cell_type": "code",
      "source": [
        "# type and run your answer here\n",
        "!head -n 20 data/adidas-sales-dataset.tsv\n"
      ],
      "metadata": {
        "id": "jn5NUSMJq8xh",
        "colab": {
          "base_uri": "https://localhost:8080/"
        },
        "outputId": "8ba0e5fc-6bd1-4561-f4fe-8096fde9d04f"
      },
      "execution_count": null,
      "outputs": [
        {
          "output_type": "stream",
          "name": "stdout",
          "text": [
            "Retailer\tRetailer ID\tInvoice Date\tRegion\tState\tCity\tProduct\tPrice per Unit\tUnits Sold\tTotal Sales\tOperating Profit\tOperating Margin\tSales Method\r\n",
            "Foot Locker\t1185732\t1/1/2020\tNortheast\tNew York\tNew York\tMen's Street Footwear\t50\t1200\t600000\t300000\t0.50\tIn-store\r\n",
            "Foot Locker\t1185732\t1/2/2020\tNortheast\tNew York\tNew York\tMen's Athletic Footwear\t50\t1000\t500000\t150000\t0.30\tIn-store\r\n",
            "Foot Locker\t1185732\t1/6/2020\tNortheast\tNew York\tNew York\tWomen's Apparel\t50\t1000\t500000\t125000\t0.25\tIn-store\r\n",
            "Foot Locker\t1185732\t1/7/2020\tNortheast\tNew York\tNew York\tMen's Street Footwear\t50\t1250\t625000\t312500\t0.50\tIn-store\r\n",
            "Foot Locker\t1185732\t1/8/2020\tNortheast\tNew York\tNew York\tMen's Athletic Footwear\t50\t900\t450000\t135000\t0.30\tOutlet\r\n",
            "Foot Locker\t1185732\t1/24/2020\tNortheast\tNew York\tNew York\tWomen's Apparel\t50\t1000\t500000\t125000\t0.25\tOutlet\r\n",
            "Foot Locker\t1185732\t1/25/2020\tNortheast\tNew York\tNew York\tMen's Street Footwear\t50\t1220\t610000\t305000\t0.50\tOutlet\r\n",
            "Foot Locker\t1185732\t1/26/2020\tNortheast\tNew York\tNew York\tMen's Athletic Footwear\t50\t925\t462500\t138750\t0.30\tOutlet\r\n",
            "Foot Locker\t1185732\t1/30/2020\tNortheast\tNew York\tNew York\tWomen's Apparel\t50\t950\t475000\t118750\t0.25\tOutlet\r\n",
            "Foot Locker\t1185732\t1/31/2020\tNortheast\tNew York\tNew York\tMen's Street Footwear\t50\t1200\t600000\t300000\t0.50\tOutlet\r\n",
            "Foot Locker\t1185732\t2/1/2020\tNortheast\tNew York\tNew York\tMen's Athletic Footwear\t50\t900\t450000\t135000\t0.30\tOutlet\r\n",
            "Foot Locker\t1185732\t2/5/2020\tNortheast\tNew York\tNew York\tWomen's Apparel\t50\t950\t475000\t118750\t0.25\tOutlet\r\n",
            "Foot Locker\t1185732\t2/8/2020\tNortheast\tNew York\tNew York\tWomen's Street Footwear\t50\t900\t450000\t157500\t0.35\tOutlet\r\n",
            "Foot Locker\t1185732\t2/9/2020\tNortheast\tNew York\tNew York\tWomen's Athletic Footwear\t50\t850\t425000\t148750\t0.35\tOutlet\r\n",
            "Foot Locker\t1185732\t3/6/2020\tNortheast\tNew York\tNew York\tWomen's Street Footwear\t50\t925\t462500\t161875\t0.35\tOutlet\r\n",
            "Foot Locker\t1185732\t3/7/2020\tNortheast\tNew York\tNew York\tWomen's Athletic Footwear\t50\t900\t450000\t157500\t0.35\tOutlet\r\n",
            "Foot Locker\t1185732\t3/12/2020\tNortheast\tNew York\tNew York\tWomen's Street Footwear\t50\t950\t475000\t166250\t0.35\tOutlet\r\n",
            "Foot Locker\t1185732\t3/13/2020\tNortheast\tNew York\tNew York\tWomen's Athletic Footwear\t50\t900\t450000\t157500\t0.35\tOutlet\r\n",
            "Foot Locker\t1185732\t3/18/2020\tNortheast\tNew York\tNew York\tWomen's Street Footwear\t50\t950\t475000\t166250\t0.35\tOutlet\r\n"
          ]
        }
      ]
    },
    {
      "cell_type": "markdown",
      "source": [
        "Rapikan tampilan menggunakan **csvlook**\n",
        "\n",
        "***Hinst***\n",
        "1. Install cvskit terlebih dahulu\n",
        "2. Penggunaannya: head .... | csvlook -d $'\\t'"
      ],
      "metadata": {
        "id": "3UPS3UdjrK09"
      }
    },
    {
      "cell_type": "code",
      "source": [
        "# install csvkit\n",
        "\n",
        "! apt install csvkit"
      ],
      "metadata": {
        "id": "5Lkc8QpWcMuz",
        "colab": {
          "base_uri": "https://localhost:8080/"
        },
        "outputId": "1668ffa6-4870-4dd0-87e3-fab50d2930ce"
      },
      "execution_count": null,
      "outputs": [
        {
          "output_type": "stream",
          "name": "stdout",
          "text": [
            "Reading package lists... Done\n",
            "Building dependency tree... Done\n",
            "Reading state information... Done\n",
            "csvkit is already the newest version (1.0.6-1).\n",
            "0 upgraded, 0 newly installed, 0 to remove and 38 not upgraded.\n"
          ]
        }
      ]
    },
    {
      "cell_type": "code",
      "source": [
        "# type and run your answer here\n",
        "\n",
        "! head ... | csvlook -d $'\\t'"
      ],
      "metadata": {
        "id": "63jP_INGcnEs",
        "colab": {
          "base_uri": "https://localhost:8080/"
        },
        "outputId": "798eef6b-f143-45b9-e4f5-2d80e6f58d1d"
      },
      "execution_count": null,
      "outputs": [
        {
          "output_type": "stream",
          "name": "stdout",
          "text": [
            "head: cannot open '...' for reading: No such file or directory\n",
            "/usr/lib/python3/dist-packages/agate/table/from_csv.py:72: RuntimeWarning: Error sniffing CSV dialect: Could not determine delimiter\n",
            "StopIteration: \n"
          ]
        }
      ]
    },
    {
      "cell_type": "markdown",
      "source": [
        "### 5. Tampilkan Top 10 Sales Terbesar\n",
        "\n",
        "**Hinst:**\n",
        "1. Gunakan perintah dengan pola: **tail** .. | **sort** .. | **head**\n",
        "2. Untuk mengexclude header, pada bagian tail gunakan opsi **-n +2**\n",
        "3. Gunakan field **Total Sales** yang berada pada kolom ke 10\n",
        "4. Untuk mengurutkan kolom ke 10 desc, gunakan tipe kolom **numerik**, sebagaimana dijelaskan pada **slide 32**"
      ],
      "metadata": {
        "id": "D-_iHwMvsGwY"
      }
    },
    {
      "cell_type": "code",
      "source": [
        "# type and run your answer here\n",
        "\n",
        "!tail -n +2 data/adidas-sales-dataset.tsv | sort -t$'\\t' -k10,10nr | head"
      ],
      "metadata": {
        "id": "Ia_KFdMMkGaK",
        "colab": {
          "base_uri": "https://localhost:8080/"
        },
        "outputId": "d1553896-f22a-4e2a-f05e-ee6bc6300ff7"
      },
      "execution_count": null,
      "outputs": [
        {
          "output_type": "stream",
          "name": "stdout",
          "text": [
            "Foot Locker\t1185732\t1/7/2020\tNortheast\tNew York\tNew York\tMen's Street Footwear\t50\t1250\t625000\t312500\t0.50\tIn-store\r\n",
            "Foot Locker\t1185732\t1/25/2020\tNortheast\tNew York\tNew York\tMen's Street Footwear\t50\t1220\t610000\t305000\t0.50\tOutlet\r\n",
            "Foot Locker\t1185732\t1/1/2020\tNortheast\tNew York\tNew York\tMen's Street Footwear\t50\t1200\t600000\t300000\t0.50\tIn-store\r\n",
            "Foot Locker\t1185732\t1/31/2020\tNortheast\tNew York\tNew York\tMen's Street Footwear\t50\t1200\t600000\t300000\t0.50\tOutlet\r\n",
            "Foot Locker\t1185732\t5/5/2021\tSoutheast\tSouth Carolina\tCharleston\tMen's Street Footwear\t50\t1045\t522500\t235125\t0.45\tOnline\r\n",
            "Foot Locker\t1185732\t1/2/2020\tNortheast\tNew York\tNew York\tMen's Athletic Footwear\t50\t1000\t500000\t150000\t0.30\tIn-store\r\n",
            "Foot Locker\t1185732\t1/24/2020\tNortheast\tNew York\tNew York\tWomen's Apparel\t50\t1000\t500000\t125000\t0.25\tOutlet\r\n",
            "Foot Locker\t1185732\t1/6/2020\tNortheast\tNew York\tNew York\tWomen's Apparel\t50\t1000\t500000\t125000\t0.25\tIn-store\r\n",
            "Walmart\t1197831\t8/23/2020\tSouth\tTexas\tHouston\tWomen's Apparel\t50\t1000\t500000\t250000\t0.50\tOutlet\r\n",
            "Sports Direct\t1197831\t9/24/2021\tSouth\tTexas\tDallas\tWomen's Street Footwear\t50\t975\t487500\t195000\t0.40\tOutlet\r\n"
          ]
        }
      ]
    },
    {
      "cell_type": "markdown",
      "source": [
        "Tampilkan hanya field City, Product, dan Total Sales\n",
        "\n",
        "**Hinst:**\n",
        "1. Gunakan kolom ke 6, 7, dan 10\n",
        "2. Tambahkan perintah awk pada kode sebelumnya\n",
        "3. Penggunaan awk dijelaskan pada **slide 34**"
      ],
      "metadata": {
        "id": "6ShBaFXbuQ1p"
      }
    },
    {
      "cell_type": "code",
      "source": [
        "# type and run your answer here\n",
        "!tail -n +2 data/adidas-sales-dataset.tsv | sort -t$'\\t' -k10,10nr | head | awk -F'\\t' '{print $6, $7, $10}'\n",
        "\n"
      ],
      "metadata": {
        "id": "n_P8BCjxlqe2",
        "colab": {
          "base_uri": "https://localhost:8080/"
        },
        "outputId": "c813bea3-6cd8-4de8-fa79-999137743fbc"
      },
      "execution_count": null,
      "outputs": [
        {
          "output_type": "stream",
          "name": "stdout",
          "text": [
            "New York Men's Street Footwear 625000\n",
            "New York Men's Street Footwear 610000\n",
            "New York Men's Street Footwear 600000\n",
            "New York Men's Street Footwear 600000\n",
            "Charleston Men's Street Footwear 522500\n",
            "New York Men's Athletic Footwear 500000\n",
            "New York Women's Apparel 500000\n",
            "New York Women's Apparel 500000\n",
            "Houston Women's Apparel 500000\n",
            "Dallas Women's Street Footwear 487500\n"
          ]
        }
      ]
    },
    {
      "cell_type": "markdown",
      "source": [
        "Tampilkan hanya field City, Product, dan Total Sales.\n",
        "\n",
        "Ubah delimiter menjadi pipe \"|\"\n",
        "\n",
        "**Hinst:**\n",
        "1. Gunakan opsi **OFS** pada awk, sebagaimana dijelaskan pada **slide 25**\n"
      ],
      "metadata": {
        "id": "Evcbsy2IvqXY"
      }
    },
    {
      "cell_type": "code",
      "source": [
        "# type and run your answer here\n",
        "!tail -n +2 data/adidas-sales-dataset.tsv | sort -t$'\\t' -k10,10nr | head | awk -F'\\t' -v OFS='|' '{print $6, $7, $10}'\n"
      ],
      "metadata": {
        "id": "eNAfJVCOwC_y",
        "colab": {
          "base_uri": "https://localhost:8080/"
        },
        "outputId": "f75afe9a-7524-4d22-9d51-6e5d7a1f54c1"
      },
      "execution_count": null,
      "outputs": [
        {
          "output_type": "stream",
          "name": "stdout",
          "text": [
            "New York|Men's Street Footwear|625000\n",
            "New York|Men's Street Footwear|610000\n",
            "New York|Men's Street Footwear|600000\n",
            "New York|Men's Street Footwear|600000\n",
            "Charleston|Men's Street Footwear|522500\n",
            "New York|Men's Athletic Footwear|500000\n",
            "New York|Women's Apparel|500000\n",
            "New York|Women's Apparel|500000\n",
            "Houston|Women's Apparel|500000\n",
            "Dallas|Women's Street Footwear|487500\n"
          ]
        }
      ]
    },
    {
      "cell_type": "markdown",
      "source": [
        "### 6. Tampilkan 10 produk dengan operating profit terkecil\n",
        "\n",
        "Tampilkan fied **Product, Units Sold, Total Sales, dan Operating Profit**\n",
        "\n",
        "Hinst:\n",
        "1. Gunakan dan modifikasi kode sebelumnya\n",
        "2. Output kolom ke 7, 9, 10,  dan 11"
      ],
      "metadata": {
        "id": "cmvNmWWBwbfM"
      }
    },
    {
      "cell_type": "code",
      "source": [
        "# type and run your answer here\n",
        "!tail -n +2 data/adidas-sales-dataset.tsv | sort -t$'\\t' -k11,11n | head | awk -F'\\t' -v OFS='|' '{print $7, $9, $10, $11}'\n"
      ],
      "metadata": {
        "id": "DPp63yysxOlJ",
        "colab": {
          "base_uri": "https://localhost:8080/"
        },
        "outputId": "49932f3d-c9df-4676-f082-964a01bf2fd8"
      },
      "execution_count": null,
      "outputs": [
        {
          "output_type": "stream",
          "name": "stdout",
          "text": [
            "Men's Apparel|20|1000|410\n",
            "Women's Athletic Footwear|26|1300|520\n",
            "Men's Apparel|45|2250|743\n",
            "Women's Athletic Footwear|38|1900|760\n",
            "Men's Apparel|36|1800|810\n",
            "Men's Apparel|44|2200|814\n",
            "Men's Apparel|39|1950|819\n",
            "Men's Apparel|64|3200|896\n",
            "Men's Apparel|58|2900|928\n",
            "Men's Apparel|53|2650|954\n"
          ]
        }
      ]
    },
    {
      "cell_type": "markdown",
      "source": [
        "### 7. Ratailer mana saja yang menjual produk Adidas?\n",
        "\n",
        "**Hinst:**\n",
        "1. Gunakan perintah: **awk** .. | **tail** .. | **sort** | **uniq**\n",
        "2. Retailer berada pada kolom ke 1\n",
        "3. Gunakan tail untuk mengexclude header"
      ],
      "metadata": {
        "id": "ATt28iXLySnN"
      }
    },
    {
      "cell_type": "code",
      "source": [
        "# type and run your answer here\n",
        "!awk -F'\\t' 'NR > 1 {print $1}' data/adidas-sales-dataset.tsv | sort | uniq\n"
      ],
      "metadata": {
        "id": "JAk1JYMve41l",
        "colab": {
          "base_uri": "https://localhost:8080/"
        },
        "outputId": "c7be1faf-0c8a-410c-f337-0f136c602a82"
      },
      "execution_count": null,
      "outputs": [
        {
          "output_type": "stream",
          "name": "stdout",
          "text": [
            "Amazon\n",
            "Foot Locker\n",
            "Kohl's\n",
            "Sports Direct\n",
            "Walmart\n",
            "West Gear\n"
          ]
        }
      ]
    },
    {
      "cell_type": "markdown",
      "source": [
        "### 8. Produk apa saja yang dijual oleh Adidas?\n",
        "\n",
        "Hinst:\n",
        "1. Produk berada pada kolom ke 7"
      ],
      "metadata": {
        "id": "jJbOHBYpzS9s"
      }
    },
    {
      "cell_type": "code",
      "source": [
        "# type and run your answer here\n",
        "!awk -F'\\t' 'NR > 1 {print $7}' data/adidas-sales-dataset.tsv | sort | uniq\n"
      ],
      "metadata": {
        "id": "srRKiL5SfPc1",
        "colab": {
          "base_uri": "https://localhost:8080/"
        },
        "outputId": "84f83d5c-6f64-4d7f-e944-cf3024c1cbb7"
      },
      "execution_count": null,
      "outputs": [
        {
          "output_type": "stream",
          "name": "stdout",
          "text": [
            "Men's Apparel\n",
            "Men's Athletic Footwear\n",
            "Men's Street Footwear\n",
            "Women's Apparel\n",
            "Women's Athletic Footwear\n",
            "Women's Street Footwear\n"
          ]
        }
      ]
    }
  ]
}